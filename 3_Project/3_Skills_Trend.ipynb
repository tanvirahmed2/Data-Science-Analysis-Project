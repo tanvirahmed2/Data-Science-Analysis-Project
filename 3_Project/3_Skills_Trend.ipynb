{
 "cells": [
  {
   "cell_type": "markdown",
   "id": "6cf82636",
   "metadata": {},
   "source": [
    "## How are in-demand skills trending for Data Scientist and Data Analysts?"
   ]
  },
  {
   "cell_type": "markdown",
   "id": "fb506c8b",
   "metadata": {},
   "source": [
    "##### Methology"
   ]
  },
  {
   "cell_type": "markdown",
   "id": "0bba3879",
   "metadata": {},
   "source": [
    "1. Aggregate skill counts monthly\n",
    "2. Re-analyze based on percentage of total jobs\n",
    "3. Plot the monthly skill demand"
   ]
  },
  {
   "cell_type": "markdown",
   "id": "6c091029",
   "metadata": {},
   "source": [
    "##### Original Exploration\n",
    "\n",
    "[12_Trending_Skills.ipynb](2_Advance\\12_Trending_Skills.ipynb)"
   ]
  },
  {
   "cell_type": "markdown",
   "id": "66acc605",
   "metadata": {},
   "source": [
    "### Import Libraries and Data"
   ]
  },
  {
   "cell_type": "markdown",
   "id": "3c91a34c",
   "metadata": {},
   "source": [
    "# Importing Libraries\n",
    "import ast\n",
    "import pandas as pd\n",
    "import seaborn as sns\n",
    "from datasets import load_dataset\n",
    "import matplotlib.pyplot as plt\n",
    "\n",
    "\n",
    "# lodaing data\n",
    "dataset = load_dataset(\"lukebarousse/data_jobs\")\n",
    "df = dataset[\"train\"].to_pandas()\n",
    "\n",
    "#data cleanup\n",
    "df['job_posted_date'] = pd.to_datetime(df['job_posted_date'])\n",
    "df['job_skills'] = df['job_skills'].apply(lambda x: ast.literal_eval(x) if isinstance(x, str) else x)"
   ]
  }
 ],
 "metadata": {
  "language_info": {
   "name": "python"
  }
 },
 "nbformat": 4,
 "nbformat_minor": 5
}
