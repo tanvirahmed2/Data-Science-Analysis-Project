{
 "cells": [
  {
   "cell_type": "markdown",
   "id": "6cf82636",
   "metadata": {},
   "source": [
    "## How are in-demand skills trending for Data Scientist and Data Analysts?"
   ]
  },
  {
   "cell_type": "markdown",
   "id": "fb506c8b",
   "metadata": {},
   "source": [
    "##### Methology"
   ]
  },
  {
   "cell_type": "markdown",
   "id": "0bba3879",
   "metadata": {},
   "source": []
  }
 ],
 "metadata": {
  "language_info": {
   "name": "python"
  }
 },
 "nbformat": 4,
 "nbformat_minor": 5
}
